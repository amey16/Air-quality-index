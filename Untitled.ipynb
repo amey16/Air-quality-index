{
 "cells": [
  {
   "cell_type": "code",
   "execution_count": 5,
   "id": "88603551",
   "metadata": {},
   "outputs": [],
   "source": [
    "import pandas as pd\n",
    "import numpy as np\n",
    "import matplotlib.pyplot as plt"
   ]
  },
  {
   "cell_type": "code",
   "execution_count": 18,
   "id": "82b6bfc8",
   "metadata": {},
   "outputs": [],
   "source": [
    "def avg_data(year):\n",
    "    average=[]\n",
    "    for rows in pd.read_csv('Data/aqi/aqi{}.csv'.format(year),chunksize=24):\n",
    "        add_var=0\n",
    "        avg=0.0\n",
    "        data=[]\n",
    "        df=pd.DataFrame(data=rows)\n",
    "        for index,row in df.iterrows():\n",
    "            data.append(row['PM2.5'])\n",
    "        for i in data:\n",
    "            if type(i) is float or type(i) is int:\n",
    "                add_var=add_var+i\n",
    "            elif type(i) is str:\n",
    "                if i!='NoData' and i!='PwrFail' and i!='---' and i!='InVld':\n",
    "                    temp=float(i)\n",
    "                    add_var=add_var+temp\n",
    "        avg=add_var/24\n",
    "        average.append(avg)\n",
    "    return average"
   ]
  },
  {
   "cell_type": "code",
   "execution_count": 19,
   "id": "801f7423",
   "metadata": {},
   "outputs": [
    {
     "data": {
      "image/png": "[encoded data removed]",
      "text/plain": [
       "<Figure size 432x288 with 1 Axes>"
      ]
     },
     "metadata": {
      "needs_background": "light"
     },
     "output_type": "display_data"
    }
   ],
   "source": [
    "lst2013 = avg_data(2013)\n",
    "    #lst2014 = avg_data(2014)\n",
    "    #lst2015 = avg_data(2015)\n",
    "    #lst2016 = avg_data(2016)\n",
    "    #lst2017 = avg_data(2017)\n",
    "    #lst2018 = avg_data(2018)\n",
    "plt.plot(range(0,365),lst2013,label = \"2013 data\",color = \"red\")\n",
    "    #plt.plot(range(0,364),lst2014,label = \"2014 data\")\n",
    "    #plt.plot(range(0,365),lst2015,label = \"2015 data\")\n",
    "plt.show()"
   ]
  },
  {
   "cell_type": "code",
   "execution_count": 11,
   "id": "d5f5b213",
   "metadata": {},
   "outputs": [],
   "source": [
    "def avg_data_2013():\n",
    "    average=[]\n",
    "    for rows in pd.read_csv('Data/aqi/aqi2013.csv',chunksize=24):\n",
    "        add_var=0\n",
    "        avg=0.0\n",
    "        data=[]\n",
    "        df=pd.DataFrame(data=rows)\n",
    "        for index,row in df.iterrows():\n",
    "            data.append(row['PM2.5'])\n",
    "        for i in data:\n",
    "            if type(i) is float or type(i) is int:\n",
    "                add_var=add_var+i\n",
    "            elif type(i) is str:\n",
    "                if i!='NoData' and i!='PwrFail' and i!='---' and i!='InVld':\n",
    "                    temp=float(i)\n",
    "                    add_var=add_var+temp\n",
    "        avg=add_var/24\n",
    "        average.append(avg)\n",
    "    return average"
   ]
  },
  {
   "cell_type": "code",
   "execution_count": null,
   "id": "ed1fd2fd",
   "metadata": {},
   "outputs": [],
   "source": []
  }
 ],
 "metadata": {
  "kernelspec": {
   "display_name": "Python 3",
   "language": "python",
   "name": "python3"
  },
  "language_info": {
   "codemirror_mode": {
    "name": "ipython",
    "version": 3
   },
   "file_extension": ".py",
   "mimetype": "text/x-python",
   "name": "python",
   "nbconvert_exporter": "python",
   "pygments_lexer": "ipython3",
   "version": "3.9.1"
  }
 },
 "nbformat": 4,
 "nbformat_minor": 5
}
