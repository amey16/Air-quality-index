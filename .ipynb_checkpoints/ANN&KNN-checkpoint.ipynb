{
 "cells": [
  {
   "cell_type": "code",
   "execution_count": 1,
   "id": "952430f3",
   "metadata": {},
   "outputs": [],
   "source": [
    "import pandas as pd\n",
    "import numpy as np\n",
    "import matplotlib.pyplot as plt\n",
    "import seaborn as sns"
   ]
  },
  {
   "cell_type": "code",
   "execution_count": 3,
   "id": "47247ed3",
   "metadata": {},
   "outputs": [],
   "source": [
    "df = pd.read_csv('Data/Real-Data/Real_Combine.csv')"
   ]
  },
  {
   "cell_type": "code",
   "execution_count": 4,
   "id": "0134ec39",
   "metadata": {},
   "outputs": [],
   "source": [
    "df=df.dropna()"
   ]
  },
  {
   "cell_type": "code",
   "execution_count": 5,
   "id": "efe29408",
   "metadata": {},
   "outputs": [],
   "source": [
    "x = df.iloc[:,:-1]\n",
    "y = df.iloc[:,-1]"
   ]
  },
  {
   "cell_type": "code",
   "execution_count": 6,
   "id": "7c54cc82",
   "metadata": {},
   "outputs": [],
   "source": [
    "from sklearn.model_selection import train_test_split\n",
    "x_train, x_test, y_train, y_test = train_test_split(x, y, test_size=0.3, random_state=0)"
   ]
  },
  {
   "cell_type": "markdown",
   "id": "88c9a67f",
   "metadata": {},
   "source": [
    "# ANN implementation"
   ]
  },
  {
   "cell_type": "code",
   "execution_count": 8,
   "id": "2592a3a2",
   "metadata": {},
   "outputs": [],
   "source": [
    "import keras\n",
    "from keras.models import Sequential\n",
    "from keras.layers import Dense\n",
    "from keras.layers import LeakyReLU,PReLU,ELU\n",
    "from keras.layers import Dropout"
   ]
  },
  {
   "cell_type": "code",
   "execution_count": 13,
   "id": "a7d49677",
   "metadata": {},
   "outputs": [
    {
     "name": "stdout",
     "output_type": "stream",
     "text": [
      "Model: \"sequential_3\"\n",
      "_________________________________________________________________\n",
      "Layer (type)                 Output Shape              Param #   \n",
      "=================================================================\n",
      "dense_15 (Dense)             (None, 128)               1152      \n",
      "_________________________________________________________________\n",
      "dense_16 (Dense)             (None, 256)               33024     \n",
      "_________________________________________________________________\n",
      "dense_17 (Dense)             (None, 256)               65792     \n",
      "_________________________________________________________________\n",
      "dense_18 (Dense)             (None, 256)               65792     \n",
      "_________________________________________________________________\n",
      "dense_19 (Dense)             (None, 1)                 257       \n",
      "=================================================================\n",
      "Total params: 166,017\n",
      "Trainable params: 166,017\n",
      "Non-trainable params: 0\n",
      "_________________________________________________________________\n",
      "Epoch 1/100\n",
      "35/35 [==============================] - 13s 17ms/step - loss: 77.1747 - mean_absolute_error: 77.1747 - val_loss: 62.1075 - val_mean_absolute_error: 62.1075\n",
      "Epoch 2/100\n",
      "35/35 [==============================] - 0s 3ms/step - loss: 66.3352 - mean_absolute_error: 66.3352 - val_loss: 62.0058 - val_mean_absolute_error: 62.0058\n",
      "Epoch 3/100\n",
      "35/35 [==============================] - 0s 3ms/step - loss: 64.8941 - mean_absolute_error: 64.8941 - val_loss: 61.7346 - val_mean_absolute_error: 61.7346\n",
      "Epoch 4/100\n",
      "35/35 [==============================] - 0s 3ms/step - loss: 67.6208 - mean_absolute_error: 67.6208 - val_loss: 60.3243 - val_mean_absolute_error: 60.3243\n",
      "Epoch 5/100\n",
      "35/35 [==============================] - 0s 3ms/step - loss: 64.7312 - mean_absolute_error: 64.7312 - val_loss: 58.2926 - val_mean_absolute_error: 58.2926\n",
      "Epoch 6/100\n",
      "35/35 [==============================] - 0s 3ms/step - loss: 60.9852 - mean_absolute_error: 60.9852 - val_loss: 53.8030 - val_mean_absolute_error: 53.8030\n",
      "Epoch 7/100\n",
      "35/35 [==============================] - 0s 3ms/step - loss: 62.7548 - mean_absolute_error: 62.7548 - val_loss: 57.4636 - val_mean_absolute_error: 57.4636\n",
      "Epoch 8/100\n",
      "35/35 [==============================] - 0s 3ms/step - loss: 59.2836 - mean_absolute_error: 59.2836 - val_loss: 55.0607 - val_mean_absolute_error: 55.0607\n",
      "Epoch 9/100\n",
      "35/35 [==============================] - 0s 3ms/step - loss: 46.6996 - mean_absolute_error: 46.6997 - val_loss: 42.7620 - val_mean_absolute_error: 42.7620\n",
      "Epoch 10/100\n",
      "35/35 [==============================] - 0s 3ms/step - loss: 47.0546 - mean_absolute_error: 47.0546 - val_loss: 48.8126 - val_mean_absolute_error: 48.8126\n",
      "Epoch 11/100\n",
      "35/35 [==============================] - 0s 3ms/step - loss: 46.8374 - mean_absolute_error: 46.8374 - val_loss: 42.8786 - val_mean_absolute_error: 42.8786\n",
      "Epoch 12/100\n",
      "35/35 [==============================] - 0s 3ms/step - loss: 44.0861 - mean_absolute_error: 44.0861 - val_loss: 43.6836 - val_mean_absolute_error: 43.6836\n",
      "Epoch 13/100\n",
      "35/35 [==============================] - 0s 3ms/step - loss: 42.9097 - mean_absolute_error: 42.9097 - val_loss: 42.9238 - val_mean_absolute_error: 42.9238\n",
      "Epoch 14/100\n",
      "35/35 [==============================] - 0s 3ms/step - loss: 44.5878 - mean_absolute_error: 44.5878 - val_loss: 41.8976 - val_mean_absolute_error: 41.8976\n",
      "Epoch 15/100\n",
      "35/35 [==============================] - 0s 3ms/step - loss: 39.5294 - mean_absolute_error: 39.5294 - val_loss: 41.8929 - val_mean_absolute_error: 41.8929\n",
      "Epoch 16/100\n",
      "35/35 [==============================] - 0s 2ms/step - loss: 40.5697 - mean_absolute_error: 40.5697 - val_loss: 41.7307 - val_mean_absolute_error: 41.7307\n",
      "Epoch 17/100\n",
      "35/35 [==============================] - 0s 3ms/step - loss: 34.9138 - mean_absolute_error: 34.9138 - val_loss: 42.8314 - val_mean_absolute_error: 42.8314\n",
      "Epoch 18/100\n",
      "35/35 [==============================] - 0s 2ms/step - loss: 36.1577 - mean_absolute_error: 36.1577 - val_loss: 43.7312 - val_mean_absolute_error: 43.7312\n",
      "Epoch 19/100\n",
      "35/35 [==============================] - 0s 4ms/step - loss: 43.4743 - mean_absolute_error: 43.4743 - val_loss: 48.7739 - val_mean_absolute_error: 48.7739\n",
      "Epoch 20/100\n",
      "35/35 [==============================] - 0s 3ms/step - loss: 41.2741 - mean_absolute_error: 41.2741 - val_loss: 45.9329 - val_mean_absolute_error: 45.9329\n",
      "Epoch 21/100\n",
      "35/35 [==============================] - 0s 3ms/step - loss: 42.7673 - mean_absolute_error: 42.7673 - val_loss: 40.9595 - val_mean_absolute_error: 40.9595\n",
      "Epoch 22/100\n",
      "35/35 [==============================] - 0s 3ms/step - loss: 39.6539 - mean_absolute_error: 39.6539 - val_loss: 43.6994 - val_mean_absolute_error: 43.6994\n",
      "Epoch 23/100\n",
      "35/35 [==============================] - 0s 3ms/step - loss: 41.4500 - mean_absolute_error: 41.4500 - val_loss: 42.7564 - val_mean_absolute_error: 42.7564\n",
      "Epoch 24/100\n",
      "35/35 [==============================] - 0s 3ms/step - loss: 40.0904 - mean_absolute_error: 40.0904 - val_loss: 41.0422 - val_mean_absolute_error: 41.0422\n",
      "Epoch 25/100\n",
      "35/35 [==============================] - 0s 3ms/step - loss: 40.3473 - mean_absolute_error: 40.3473 - val_loss: 39.7065 - val_mean_absolute_error: 39.7065\n",
      "Epoch 26/100\n",
      "35/35 [==============================] - 0s 3ms/step - loss: 38.3167 - mean_absolute_error: 38.3167 - val_loss: 49.0792 - val_mean_absolute_error: 49.0792\n",
      "Epoch 27/100\n",
      "35/35 [==============================] - 0s 3ms/step - loss: 43.9196 - mean_absolute_error: 43.9196 - val_loss: 42.6950 - val_mean_absolute_error: 42.6950\n",
      "Epoch 28/100\n",
      "35/35 [==============================] - 0s 2ms/step - loss: 42.7462 - mean_absolute_error: 42.7462 - val_loss: 41.2657 - val_mean_absolute_error: 41.2657\n",
      "Epoch 29/100\n",
      "35/35 [==============================] - 0s 3ms/step - loss: 37.0414 - mean_absolute_error: 37.0414 - val_loss: 39.3612 - val_mean_absolute_error: 39.3612\n",
      "Epoch 30/100\n",
      "35/35 [==============================] - 0s 3ms/step - loss: 37.6510 - mean_absolute_error: 37.6510 - val_loss: 39.5608 - val_mean_absolute_error: 39.5608\n",
      "Epoch 31/100\n",
      "35/35 [==============================] - 0s 2ms/step - loss: 38.5259 - mean_absolute_error: 38.5259 - val_loss: 39.5299 - val_mean_absolute_error: 39.5299\n",
      "Epoch 32/100\n",
      "35/35 [==============================] - 0s 3ms/step - loss: 45.8809 - mean_absolute_error: 45.8809 - val_loss: 44.1023 - val_mean_absolute_error: 44.1023\n",
      "Epoch 33/100\n",
      "35/35 [==============================] - 0s 3ms/step - loss: 49.8960 - mean_absolute_error: 49.8960 - val_loss: 39.6207 - val_mean_absolute_error: 39.6207\n",
      "Epoch 34/100\n",
      "35/35 [==============================] - 0s 3ms/step - loss: 36.7108 - mean_absolute_error: 36.7108 - val_loss: 41.6205 - val_mean_absolute_error: 41.6205\n",
      "Epoch 35/100\n",
      "35/35 [==============================] - 0s 2ms/step - loss: 37.4885 - mean_absolute_error: 37.4885 - val_loss: 41.5963 - val_mean_absolute_error: 41.5963\n",
      "Epoch 36/100\n",
      "35/35 [==============================] - 0s 3ms/step - loss: 39.4839 - mean_absolute_error: 39.4839 - val_loss: 41.9765 - val_mean_absolute_error: 41.9765\n",
      "Epoch 37/100\n",
      "35/35 [==============================] - 0s 3ms/step - loss: 35.8985 - mean_absolute_error: 35.8985 - val_loss: 42.1206 - val_mean_absolute_error: 42.1206\n",
      "Epoch 38/100\n",
      "35/35 [==============================] - 0s 3ms/step - loss: 41.5369 - mean_absolute_error: 41.5369 - val_loss: 40.4126 - val_mean_absolute_error: 40.4126\n",
      "Epoch 39/100\n",
      "35/35 [==============================] - 0s 3ms/step - loss: 39.6383 - mean_absolute_error: 39.6383 - val_loss: 40.2420 - val_mean_absolute_error: 40.2420\n",
      "Epoch 40/100\n",
      "35/35 [==============================] - 0s 3ms/step - loss: 38.4499 - mean_absolute_error: 38.4499 - val_loss: 39.3154 - val_mean_absolute_error: 39.3154\n",
      "Epoch 41/100\n",
      "35/35 [==============================] - 0s 3ms/step - loss: 37.4619 - mean_absolute_error: 37.4619 - val_loss: 40.7316 - val_mean_absolute_error: 40.7316\n",
      "Epoch 42/100\n",
      "35/35 [==============================] - 0s 3ms/step - loss: 38.9865 - mean_absolute_error: 38.9865 - val_loss: 39.1191 - val_mean_absolute_error: 39.1191\n",
      "Epoch 43/100\n",
      "35/35 [==============================] - 0s 3ms/step - loss: 36.5368 - mean_absolute_error: 36.5368 - val_loss: 39.2286 - val_mean_absolute_error: 39.2286\n"
     ]
    },
    {
     "name": "stdout",
     "output_type": "stream",
     "text": [
      "Epoch 44/100\n",
      "35/35 [==============================] - 0s 3ms/step - loss: 40.0771 - mean_absolute_error: 40.0771 - val_loss: 39.0003 - val_mean_absolute_error: 39.0003\n",
      "Epoch 45/100\n",
      "35/35 [==============================] - 0s 3ms/step - loss: 38.3288 - mean_absolute_error: 38.3288 - val_loss: 39.1802 - val_mean_absolute_error: 39.1802\n",
      "Epoch 46/100\n",
      "35/35 [==============================] - 0s 2ms/step - loss: 38.2175 - mean_absolute_error: 38.2175 - val_loss: 39.5887 - val_mean_absolute_error: 39.5887\n",
      "Epoch 47/100\n",
      "35/35 [==============================] - 0s 2ms/step - loss: 42.4523 - mean_absolute_error: 42.4523 - val_loss: 43.5979 - val_mean_absolute_error: 43.5979\n",
      "Epoch 48/100\n",
      "35/35 [==============================] - 0s 2ms/step - loss: 39.1366 - mean_absolute_error: 39.1366 - val_loss: 39.6987 - val_mean_absolute_error: 39.6987\n",
      "Epoch 49/100\n",
      "35/35 [==============================] - 0s 2ms/step - loss: 35.5481 - mean_absolute_error: 35.5481 - val_loss: 43.1028 - val_mean_absolute_error: 43.1028\n",
      "Epoch 50/100\n",
      "35/35 [==============================] - 0s 2ms/step - loss: 42.0945 - mean_absolute_error: 42.0945 - val_loss: 40.1715 - val_mean_absolute_error: 40.1715\n",
      "Epoch 51/100\n",
      "35/35 [==============================] - 0s 2ms/step - loss: 34.7559 - mean_absolute_error: 34.7559 - val_loss: 41.9748 - val_mean_absolute_error: 41.9748\n",
      "Epoch 52/100\n",
      "35/35 [==============================] - 0s 3ms/step - loss: 38.8164 - mean_absolute_error: 38.8164 - val_loss: 43.6570 - val_mean_absolute_error: 43.6570\n",
      "Epoch 53/100\n",
      "35/35 [==============================] - 0s 2ms/step - loss: 41.1990 - mean_absolute_error: 41.1990 - val_loss: 39.0304 - val_mean_absolute_error: 39.0304\n",
      "Epoch 54/100\n",
      "35/35 [==============================] - 0s 2ms/step - loss: 39.6259 - mean_absolute_error: 39.6259 - val_loss: 42.2911 - val_mean_absolute_error: 42.2911\n",
      "Epoch 55/100\n",
      "35/35 [==============================] - 0s 3ms/step - loss: 42.7849 - mean_absolute_error: 42.7849 - val_loss: 41.1845 - val_mean_absolute_error: 41.1845\n",
      "Epoch 56/100\n",
      "35/35 [==============================] - 0s 2ms/step - loss: 39.2700 - mean_absolute_error: 39.2700 - val_loss: 38.9287 - val_mean_absolute_error: 38.9287\n",
      "Epoch 57/100\n",
      "35/35 [==============================] - 0s 2ms/step - loss: 37.8552 - mean_absolute_error: 37.8552 - val_loss: 39.5875 - val_mean_absolute_error: 39.5875\n",
      "Epoch 58/100\n",
      "35/35 [==============================] - 0s 3ms/step - loss: 38.2499 - mean_absolute_error: 38.2499 - val_loss: 40.4544 - val_mean_absolute_error: 40.4544\n",
      "Epoch 59/100\n",
      "35/35 [==============================] - 0s 2ms/step - loss: 36.1902 - mean_absolute_error: 36.1902 - val_loss: 43.7419 - val_mean_absolute_error: 43.7419\n",
      "Epoch 60/100\n",
      "35/35 [==============================] - 0s 2ms/step - loss: 40.7982 - mean_absolute_error: 40.7982 - val_loss: 39.0809 - val_mean_absolute_error: 39.0809\n",
      "Epoch 61/100\n",
      "35/35 [==============================] - 0s 2ms/step - loss: 39.1181 - mean_absolute_error: 39.1181 - val_loss: 40.5465 - val_mean_absolute_error: 40.5465\n",
      "Epoch 62/100\n",
      "35/35 [==============================] - 0s 3ms/step - loss: 40.9141 - mean_absolute_error: 40.9141 - val_loss: 41.6952 - val_mean_absolute_error: 41.6952\n",
      "Epoch 63/100\n",
      "35/35 [==============================] - 0s 3ms/step - loss: 37.0292 - mean_absolute_error: 37.0292 - val_loss: 44.7330 - val_mean_absolute_error: 44.7330\n",
      "Epoch 64/100\n",
      "35/35 [==============================] - 0s 3ms/step - loss: 42.6119 - mean_absolute_error: 42.6119 - val_loss: 39.6127 - val_mean_absolute_error: 39.6127\n",
      "Epoch 65/100\n",
      "35/35 [==============================] - 0s 3ms/step - loss: 33.2669 - mean_absolute_error: 33.2669 - val_loss: 39.1598 - val_mean_absolute_error: 39.1598\n",
      "Epoch 66/100\n",
      "35/35 [==============================] - 0s 3ms/step - loss: 41.9549 - mean_absolute_error: 41.9549 - val_loss: 40.4877 - val_mean_absolute_error: 40.4877\n",
      "Epoch 67/100\n",
      "35/35 [==============================] - 0s 3ms/step - loss: 36.8819 - mean_absolute_error: 36.8819 - val_loss: 41.1346 - val_mean_absolute_error: 41.1346\n",
      "Epoch 68/100\n",
      "35/35 [==============================] - 0s 3ms/step - loss: 42.4276 - mean_absolute_error: 42.4276 - val_loss: 40.6639 - val_mean_absolute_error: 40.6639\n",
      "Epoch 69/100\n",
      "35/35 [==============================] - 0s 2ms/step - loss: 38.6918 - mean_absolute_error: 38.6918 - val_loss: 49.4005 - val_mean_absolute_error: 49.4005\n",
      "Epoch 70/100\n",
      "35/35 [==============================] - 0s 2ms/step - loss: 38.2394 - mean_absolute_error: 38.2394 - val_loss: 39.4509 - val_mean_absolute_error: 39.4509\n",
      "Epoch 71/100\n",
      "35/35 [==============================] - 0s 3ms/step - loss: 36.5350 - mean_absolute_error: 36.5350 - val_loss: 41.2141 - val_mean_absolute_error: 41.2141\n",
      "Epoch 72/100\n",
      "35/35 [==============================] - 0s 3ms/step - loss: 34.9096 - mean_absolute_error: 34.9096 - val_loss: 40.6675 - val_mean_absolute_error: 40.6675\n",
      "Epoch 73/100\n",
      "35/35 [==============================] - 0s 3ms/step - loss: 43.7473 - mean_absolute_error: 43.7473 - val_loss: 42.1934 - val_mean_absolute_error: 42.1934\n",
      "Epoch 74/100\n",
      "35/35 [==============================] - 0s 3ms/step - loss: 36.3207 - mean_absolute_error: 36.3207 - val_loss: 43.1246 - val_mean_absolute_error: 43.1246\n",
      "Epoch 75/100\n",
      "35/35 [==============================] - 0s 3ms/step - loss: 40.0187 - mean_absolute_error: 40.0187 - val_loss: 42.7309 - val_mean_absolute_error: 42.7309\n",
      "Epoch 76/100\n",
      "35/35 [==============================] - 0s 3ms/step - loss: 36.9084 - mean_absolute_error: 36.9084 - val_loss: 38.7701 - val_mean_absolute_error: 38.7701\n",
      "Epoch 77/100\n",
      "35/35 [==============================] - 0s 3ms/step - loss: 37.5273 - mean_absolute_error: 37.5273 - val_loss: 39.0716 - val_mean_absolute_error: 39.0716\n",
      "Epoch 78/100\n",
      "35/35 [==============================] - 0s 3ms/step - loss: 37.9288 - mean_absolute_error: 37.9288 - val_loss: 38.7137 - val_mean_absolute_error: 38.7137\n",
      "Epoch 79/100\n",
      "35/35 [==============================] - 0s 3ms/step - loss: 35.4099 - mean_absolute_error: 35.4099 - val_loss: 48.2125 - val_mean_absolute_error: 48.2125\n",
      "Epoch 80/100\n",
      "35/35 [==============================] - 0s 3ms/step - loss: 43.5595 - mean_absolute_error: 43.5595 - val_loss: 42.1573 - val_mean_absolute_error: 42.1573\n",
      "Epoch 81/100\n",
      "35/35 [==============================] - 0s 3ms/step - loss: 39.3397 - mean_absolute_error: 39.3397 - val_loss: 40.9843 - val_mean_absolute_error: 40.9843\n",
      "Epoch 82/100\n",
      "35/35 [==============================] - 0s 3ms/step - loss: 39.3395 - mean_absolute_error: 39.3395 - val_loss: 40.2383 - val_mean_absolute_error: 40.2383\n",
      "Epoch 83/100\n",
      "35/35 [==============================] - 0s 3ms/step - loss: 38.6691 - mean_absolute_error: 38.6691 - val_loss: 38.2854 - val_mean_absolute_error: 38.2854\n",
      "Epoch 84/100\n",
      "35/35 [==============================] - 0s 3ms/step - loss: 38.4956 - mean_absolute_error: 38.4956 - val_loss: 38.9996 - val_mean_absolute_error: 38.9996\n",
      "Epoch 85/100\n",
      "35/35 [==============================] - 0s 3ms/step - loss: 33.3962 - mean_absolute_error: 33.3962 - val_loss: 39.9672 - val_mean_absolute_error: 39.9672\n",
      "Epoch 86/100\n",
      "35/35 [==============================] - 0s 3ms/step - loss: 38.3577 - mean_absolute_error: 38.3577 - val_loss: 40.1594 - val_mean_absolute_error: 40.1594\n",
      "Epoch 87/100\n",
      "35/35 [==============================] - 0s 3ms/step - loss: 37.0424 - mean_absolute_error: 37.0424 - val_loss: 40.8591 - val_mean_absolute_error: 40.8591\n",
      "Epoch 88/100\n",
      "35/35 [==============================] - 0s 3ms/step - loss: 38.3496 - mean_absolute_error: 38.3496 - val_loss: 41.3065 - val_mean_absolute_error: 41.3065\n",
      "Epoch 89/100\n",
      "35/35 [==============================] - 0s 3ms/step - loss: 35.9199 - mean_absolute_error: 35.9199 - val_loss: 38.5644 - val_mean_absolute_error: 38.5644\n",
      "Epoch 90/100\n",
      "35/35 [==============================] - 0s 3ms/step - loss: 34.4824 - mean_absolute_error: 34.4824 - val_loss: 40.5650 - val_mean_absolute_error: 40.5650\n",
      "Epoch 91/100\n",
      "35/35 [==============================] - 0s 3ms/step - loss: 37.4988 - mean_absolute_error: 37.4988 - val_loss: 38.7721 - val_mean_absolute_error: 38.7721\n",
      "Epoch 92/100\n",
      "35/35 [==============================] - 0s 3ms/step - loss: 39.2054 - mean_absolute_error: 39.2054 - val_loss: 40.4585 - val_mean_absolute_error: 40.4585\n"
     ]
    },
    {
     "name": "stdout",
     "output_type": "stream",
     "text": [
      "Epoch 93/100\n",
      "35/35 [==============================] - 0s 3ms/step - loss: 41.3021 - mean_absolute_error: 41.3021 - val_loss: 48.7171 - val_mean_absolute_error: 48.7171\n",
      "Epoch 94/100\n",
      "35/35 [==============================] - 0s 3ms/step - loss: 41.5090 - mean_absolute_error: 41.5090 - val_loss: 43.3957 - val_mean_absolute_error: 43.3957\n",
      "Epoch 95/100\n",
      "35/35 [==============================] - 0s 3ms/step - loss: 40.3424 - mean_absolute_error: 40.3424 - val_loss: 42.4635 - val_mean_absolute_error: 42.4635\n",
      "Epoch 96/100\n",
      "35/35 [==============================] - 0s 3ms/step - loss: 37.6388 - mean_absolute_error: 37.6388 - val_loss: 40.9790 - val_mean_absolute_error: 40.9790\n",
      "Epoch 97/100\n",
      "35/35 [==============================] - 0s 3ms/step - loss: 36.6705 - mean_absolute_error: 36.6705 - val_loss: 38.4406 - val_mean_absolute_error: 38.4406\n",
      "Epoch 98/100\n",
      "35/35 [==============================] - 0s 3ms/step - loss: 35.3718 - mean_absolute_error: 35.3718 - val_loss: 38.6241 - val_mean_absolute_error: 38.6241\n",
      "Epoch 99/100\n",
      "35/35 [==============================] - 0s 3ms/step - loss: 35.9805 - mean_absolute_error: 35.9805 - val_loss: 39.2332 - val_mean_absolute_error: 39.2332\n",
      "Epoch 100/100\n",
      "35/35 [==============================] - 0s 3ms/step - loss: 38.1334 - mean_absolute_error: 38.1334 - val_loss: 38.8586 - val_mean_absolute_error: 38.8586\n"
     ]
    }
   ],
   "source": [
    "NN_model = Sequential()\n",
    "\n",
    "# The Input Layer :\n",
    "NN_model.add(Dense(128, kernel_initializer='normal',input_dim = x_train.shape[1], activation='relu'))\n",
    "\n",
    "# The Hidden Layers :\n",
    "NN_model.add(Dense(256, kernel_initializer='normal',activation='relu'))\n",
    "NN_model.add(Dense(256, kernel_initializer='normal',activation='relu'))\n",
    "NN_model.add(Dense(256, kernel_initializer='normal',activation='relu'))\n",
    "\n",
    "# The Output Layer :\n",
    "NN_model.add(Dense(1, kernel_initializer='normal',activation='linear'))\n",
    "\n",
    "# Compile the network :\n",
    "NN_model.compile(loss='mean_absolute_error', optimizer='adam', metrics=['mean_absolute_error'])\n",
    "NN_model.summary()\n",
    "\n",
    "# Fitting the ANN to the Training set\n",
    "model_history = NN_model.fit(x_train, y_train,validation_split=0.33, batch_size = 10, epochs = 100)"
   ]
  },
  {
   "cell_type": "code",
   "execution_count": 14,
   "id": "b44311ec",
   "metadata": {},
   "outputs": [],
   "source": [
    "#NN_model.fit?"
   ]
  },
  {
   "cell_type": "code",
   "execution_count": 16,
   "id": "5b788b09",
   "metadata": {},
   "outputs": [],
   "source": [
    "prediction = NN_model.predict(x_test)"
   ]
  },
  {
   "cell_type": "code",
   "execution_count": 17,
   "id": "f3a524ef",
   "metadata": {},
   "outputs": [
    {
     "name": "stdout",
     "output_type": "stream",
     "text": [
      "MAE: 40.00135241469292\n",
      "MSE: 3451.538289291088\n",
      "RMSE: 58.74979395105218\n"
     ]
    }
   ],
   "source": [
    "from sklearn import metrics\n",
    "print('MAE:', metrics.mean_absolute_error(y_test, prediction))\n",
    "print('MSE:', metrics.mean_squared_error(y_test, prediction))\n",
    "print('RMSE:', np.sqrt(metrics.mean_squared_error(y_test, prediction)))"
   ]
  },
  {
   "cell_type": "markdown",
   "id": "3e1b424f",
   "metadata": {},
   "source": [
    "# KNN implementation"
   ]
  },
  {
   "cell_type": "code",
   "execution_count": 18,
   "id": "e36d8781",
   "metadata": {},
   "outputs": [
    {
     "data": {
      "text/plain": [
       "KNeighborsRegressor(n_neighbors=1)"
      ]
     },
     "execution_count": 18,
     "metadata": {},
     "output_type": "execute_result"
    }
   ],
   "source": [
    "from sklearn.neighbors import KNeighborsRegressor\n",
    "regressor = KNeighborsRegressor(n_neighbors=1)\n",
    "regressor.fit(x_train,y_train)"
   ]
  },
  {
   "cell_type": "code",
   "execution_count": 19,
   "id": "4ba014af",
   "metadata": {},
   "outputs": [
    {
     "data": {
      "text/plain": [
       "-0.12260548546487755"
      ]
     },
     "execution_count": 19,
     "metadata": {},
     "output_type": "execute_result"
    }
   ],
   "source": [
    "from sklearn.model_selection import cross_val_score\n",
    "score = cross_val_score(regressor,x,y,cv=5)\n",
    "score.mean()"
   ]
  },
  {
   "cell_type": "code",
   "execution_count": 20,
   "id": "9e2899ba",
   "metadata": {},
   "outputs": [],
   "source": [
    "prediction = regressor.predict(x_test)"
   ]
  },
  {
   "cell_type": "code",
   "execution_count": 21,
   "id": "0667e8d8",
   "metadata": {},
   "outputs": [],
   "source": [
    "accuracy_rate = []\n",
    "for i in range(1,40):\n",
    "    \n",
    "    knn = KNeighborsRegressor(n_neighbors=i)\n",
    "    score = cross_val_score(knn, x, y, cv=10, scoring=\"neg_mean_squared_error\")\n",
    "    accuracy_rate.append(score.mean())"
   ]
  },
  {
   "cell_type": "code",
   "execution_count": 22,
   "id": "5378aa89",
   "metadata": {},
   "outputs": [
    {
     "data": {
      "text/plain": [
       "Text(0, 0.5, 'Accuracy Rate')"
      ]
     },
     "execution_count": 22,
     "metadata": {},
     "output_type": "execute_result"
    },
    {
     "data": {
      "image/png": "[encoded data removed]",
      "text/plain": [
       "<Figure size 720x432 with 1 Axes>"
      ]
     },
     "metadata": {
      "needs_background": "light"
     },
     "output_type": "display_data"
    }
   ],
   "source": [
    "plt.figure(figsize=(10,6))\n",
    "plt.plot(range(1,40),accuracy_rate,color='blue', linestyle='dashed', marker='o',markerfacecolor='red', markersize=10)\n",
    "plt.title('Accuracy Rate vs. K Value')\n",
    "plt.xlabel('K')\n",
    "plt.ylabel('Accuracy Rate')"
   ]
  },
  {
   "cell_type": "code",
   "execution_count": 23,
   "id": "ca34359f",
   "metadata": {},
   "outputs": [
    {
     "name": "stdout",
     "output_type": "stream",
     "text": [
      "MAE: 57.635540334855406\n",
      "MSE: 7053.356899257989\n",
      "RMSE: 83.98426578388353\n"
     ]
    }
   ],
   "source": [
    "from sklearn import metrics\n",
    "print('MAE:', metrics.mean_absolute_error(y_test, prediction))\n",
    "print('MSE:', metrics.mean_squared_error(y_test, prediction))\n",
    "print('RMSE:', np.sqrt(metrics.mean_squared_error(y_test, prediction)))"
   ]
  },
  {
   "cell_type": "code",
   "execution_count": null,
   "id": "3a006128",
   "metadata": {},
   "outputs": [],
   "source": []
  }
 ],
 "metadata": {
  "kernelspec": {
   "display_name": "Python 3",
   "language": "python",
   "name": "python3"
  },
  "language_info": {
   "codemirror_mode": {
    "name": "ipython",
    "version": 3
   },
   "file_extension": ".py",
   "mimetype": "text/x-python",
   "name": "python",
   "nbconvert_exporter": "python",
   "pygments_lexer": "ipython3",
   "version": "3.9.1"
  }
 },
 "nbformat": 4,
 "nbformat_minor": 5
}
